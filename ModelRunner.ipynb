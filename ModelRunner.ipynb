{
 "cells": [
  {
   "cell_type": "code",
   "execution_count": 2,
   "metadata": {},
   "outputs": [
    {
     "data": {
      "text/html": [
       "<div>\n",
       "<style scoped>\n",
       "    .dataframe tbody tr th:only-of-type {\n",
       "        vertical-align: middle;\n",
       "    }\n",
       "\n",
       "    .dataframe tbody tr th {\n",
       "        vertical-align: top;\n",
       "    }\n",
       "\n",
       "    .dataframe thead th {\n",
       "        text-align: right;\n",
       "    }\n",
       "</style>\n",
       "<table border=\"1\" class=\"dataframe\">\n",
       "  <thead>\n",
       "    <tr style=\"text-align: right;\">\n",
       "      <th></th>\n",
       "      <th>Time</th>\n",
       "      <th>envoy_server_live</th>\n",
       "      <th>envoy_http_rq_total</th>\n",
       "      <th>jvm_threads_current</th>\n",
       "      <th>jvm_memory_bytes_used</th>\n",
       "      <th>ugbu_chassis_resources_cpu_usage</th>\n",
       "    </tr>\n",
       "  </thead>\n",
       "  <tbody>\n",
       "    <tr>\n",
       "      <th>0</th>\n",
       "      <td>1544004060</td>\n",
       "      <td>1</td>\n",
       "      <td>379</td>\n",
       "      <td>36</td>\n",
       "      <td>35578336</td>\n",
       "      <td>0.002521</td>\n",
       "    </tr>\n",
       "    <tr>\n",
       "      <th>1</th>\n",
       "      <td>1544004120</td>\n",
       "      <td>1</td>\n",
       "      <td>403</td>\n",
       "      <td>36</td>\n",
       "      <td>43207040</td>\n",
       "      <td>0.005356</td>\n",
       "    </tr>\n",
       "    <tr>\n",
       "      <th>2</th>\n",
       "      <td>1544004180</td>\n",
       "      <td>1</td>\n",
       "      <td>427</td>\n",
       "      <td>36</td>\n",
       "      <td>35470136</td>\n",
       "      <td>0.010789</td>\n",
       "    </tr>\n",
       "    <tr>\n",
       "      <th>3</th>\n",
       "      <td>1544004240</td>\n",
       "      <td>1</td>\n",
       "      <td>449</td>\n",
       "      <td>36</td>\n",
       "      <td>42478088</td>\n",
       "      <td>0.002678</td>\n",
       "    </tr>\n",
       "    <tr>\n",
       "      <th>4</th>\n",
       "      <td>1544004300</td>\n",
       "      <td>1</td>\n",
       "      <td>449</td>\n",
       "      <td>36</td>\n",
       "      <td>42478088</td>\n",
       "      <td>0.002678</td>\n",
       "    </tr>\n",
       "  </tbody>\n",
       "</table>\n",
       "</div>"
      ],
      "text/plain": [
       "         Time  envoy_server_live  envoy_http_rq_total  jvm_threads_current  \\\n",
       "0  1544004060                  1                  379                   36   \n",
       "1  1544004120                  1                  403                   36   \n",
       "2  1544004180                  1                  427                   36   \n",
       "3  1544004240                  1                  449                   36   \n",
       "4  1544004300                  1                  449                   36   \n",
       "\n",
       "   jvm_memory_bytes_used  ugbu_chassis_resources_cpu_usage  \n",
       "0               35578336                          0.002521  \n",
       "1               43207040                          0.005356  \n",
       "2               35470136                          0.010789  \n",
       "3               42478088                          0.002678  \n",
       "4               42478088                          0.002678  "
      ]
     },
     "execution_count": 2,
     "metadata": {},
     "output_type": "execute_result"
    }
   ],
   "source": [
    "import pandas as pd\n",
    "data=pd.read_csv('Data_modified.csv')\n",
    "data.head(5)"
   ]
  },
  {
   "cell_type": "code",
   "execution_count": 12,
   "metadata": {},
   "outputs": [],
   "source": [
    "env_ser=data['envoy_server_live'].values\n",
    "env_rq_tot=data['envoy_http_rq_total'].values\n",
    "jvm_th_cur=data['jvm_threads_current'].values\n",
    "jvm_mem_bytes=data['jvm_memory_bytes_used'].values\n",
    "cpu_usage=data['ugbu_chassis_resources_cpu_usage'].values\n",
    "time=data['Time'].values\n",
    "df=pd.DataFrame(data)"
   ]
  },
  {
   "cell_type": "code",
   "execution_count": 62,
   "metadata": {},
   "outputs": [],
   "source": [
    "def showPrediction(val1):\n",
    "    from heapq import nsmallest\n",
    "    cpus=[0]\n",
    "    thc=[0]\n",
    "    rqt=[0]\n",
    "    sslv=[0]\n",
    "    mbyu=[0]\n",
    "    time_dec_factor=nsmallest(4,time, key=lambda x: abs(x-val1))\n",
    "    print(time_dec_factor)\n",
    "    for tt in time_dec_factor:\n",
    "        selecrows=df.loc[df['Time'] == tt]\n",
    "        cpus.append(selecrows['ugbu_chassis_resources_cpu_usage'].values)\n",
    "        thc.append(selecrows['jvm_threads_current'].values)\n",
    "        mbyu.append(selecrows['jvm_memory_bytes_used'].values)\n",
    "        rqt.append(selecrows['envoy_http_rq_total'].values)\n",
    "        sslv.append(selecrows['envoy_server_live'].values)\n",
    "    print(\"\\n:------ Model Prediction Report:-----\") \n",
    "    ans1=\"\\n %s: %f \" % ('Predicted Monitoring Data at time',val1)\n",
    "    ans2=\"\\n %s: %f \" % ('Predicted Request Total',(sum(rqt))/4)\n",
    "    ans3=\"\\n %s: %f \" % ('Predicted JVM Current Thread',(sum(thc))/4)\n",
    "    ans4=\"\\n %s: %f \" % ('Predicted Memory Bytes Used Total',(sum(mbyu))/4)\n",
    "    ans5=\"\\n %s: %f \" % ('Predicted CPU Usage',(sum(cpus))/4)    \n",
    "    print(ans1)\n",
    "    print(ans2)\n",
    "    print(ans3)\n",
    "    print(ans4)\n",
    "    print(ans5)    \n",
    "    "
   ]
  },
  {
   "cell_type": "code",
   "execution_count": 58,
   "metadata": {},
   "outputs": [
    {
     "name": "stdout",
     "output_type": "stream",
     "text": [
      "[1544004240, 1544004180, 1544004300, 1544004120]\n",
      "\n",
      ":------ Model Prediction Report:-----\n",
      "\n",
      " Predicted Monitoring Data at time: 1544004218.000000 \n",
      "\n",
      " Predicted Request Total: 432.000000 \n",
      "\n",
      " Predicted JVM Current Thread: 36.000000 \n",
      "\n",
      " Predicted Memory Bytes Used Total: 40908338.000000 \n",
      "\n",
      " Predicted CPU Usage: 0.005375 \n"
     ]
    }
   ],
   "source": [
    "showPrediction(1544004218)"
   ]
  },
  {
   "cell_type": "code",
   "execution_count": 64,
   "metadata": {},
   "outputs": [
    {
     "name": "stdout",
     "output_type": "stream",
     "text": [
      "\n",
      " Monitoring Over\n"
     ]
    }
   ],
   "source": [
    "print(\"\\n Monitoring Over\")"
   ]
  },
  {
   "cell_type": "code",
   "execution_count": null,
   "metadata": {},
   "outputs": [],
   "source": []
  }
 ],
 "metadata": {
  "kernelspec": {
   "display_name": "Python 2",
   "language": "python",
   "name": "python2"
  },
  "language_info": {
   "codemirror_mode": {
    "name": "ipython",
    "version": 2
   },
   "file_extension": ".py",
   "mimetype": "text/x-python",
   "name": "python",
   "nbconvert_exporter": "python",
   "pygments_lexer": "ipython2",
   "version": "2.7.15"
  }
 },
 "nbformat": 4,
 "nbformat_minor": 2
}
