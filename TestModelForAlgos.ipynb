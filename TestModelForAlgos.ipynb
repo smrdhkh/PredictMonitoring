{
 "cells": [
  {
   "cell_type": "code",
   "execution_count": 1,
   "metadata": {},
   "outputs": [],
   "source": [
    "import pandas as pd\n",
    "from sklearn import datasets, linear_model\n",
    "from sklearn.model_selection import train_test_split\n",
    "from matplotlib import pyplot as plt"
   ]
  },
  {
   "cell_type": "code",
   "execution_count": 3,
   "metadata": {},
   "outputs": [],
   "source": [
    "data=pd.read_csv('Data_modified.csv')\n",
    "ac_data=data.values\n",
    "df=data[0:1215]"
   ]
  },
  {
   "cell_type": "code",
   "execution_count": 5,
   "metadata": {},
   "outputs": [],
   "source": [
    "y=df.ugbu_chassis_resources_cpu_usage"
   ]
  },
  {
   "cell_type": "code",
   "execution_count": 6,
   "metadata": {},
   "outputs": [
    {
     "name": "stdout",
     "output_type": "stream",
     "text": [
      "(972, 6) (972L,)\n",
      "(243, 6) (243L,)\n"
     ]
    }
   ],
   "source": [
    "X_train, X_test, y_train, y_test = train_test_split(df, y, test_size=0.2)\n",
    "print X_train.shape, y_train.shape\n",
    "print X_test.shape, y_test.shape"
   ]
  },
  {
   "cell_type": "code",
   "execution_count": 8,
   "metadata": {},
   "outputs": [
    {
     "name": "stdout",
     "output_type": "stream",
     "text": [
      "[0.00129003 0.00379147 0.00189593 0.01127714 0.0053161  0.01016333\n",
      " 0.00093818 0.00629322 0.000645   0.0001759  0.0037721  0.00189554\n",
      " 0.00156356 0.00375267 0.00130954 0.01047659 0.00625434 0.0027363\n",
      " 0.02011111 0.01020255 0.00130951 0.00257997 0.01256749 0.00535551\n",
      " 0.0150498  0.00187628 0.01063236 0.00570726 0.0057072  0.00031271\n",
      " 0.01020205 0.00566815 0.00140729 0.00506234 0.00080138 0.00187639\n",
      " 0.01141419 0.0050816  0.00375272 0.0006841  0.0014268  0.01129727\n",
      " 0.00189597 0.00377089 0.00129001 0.01133531 0.00510111 0.00019546\n",
      " 0.01024083 0.00504261 0.00627414 0.00158312 0.00128998 0.00312711\n",
      " 0.00517912 0.00035179 0.01063259 0.01127724 0.0013094  0.0031466\n",
      " 0.00128995 0.0114144  0.00191542 0.00752441 0.00562854 0.00187618\n",
      " 0.0106323  0.00129003 0.00140725 0.0050818  0.01067205 0.00539432\n",
      " 0.00752481 0.00127049 0.00377229 0.01039827 0.00066455 0.00627366\n",
      " 0.00046908 0.00627356 0.00252132 0.02016976 0.00250182 0.01522556\n",
      " 0.01018283 0.00265818 0.00645    0.00375277 0.00517974 0.00510113\n",
      " 0.00285356 0.00189587 0.00142928 0.00517934 0.00017591 0.00140725\n",
      " 0.00281428 0.00156356 0.00129    0.00035182 0.0012704  0.00062545\n",
      " 0.00156367 0.00752439 0.00140735 0.0101637  0.01131662 0.000469\n",
      " 0.01377835 0.00519879 0.00375765 0.00156369 0.00017591 0.00140722\n",
      " 0.00517968 0.01024134 0.00140726 0.01254723 0.00140724 0.00140727\n",
      " 0.00078183 0.02009294 0.00377741 0.00066455 0.00140722 0.01256782\n",
      " 0.00070365 0.00093818 0.01129687 0.01127772 0.0104172  0.00506192\n",
      " 0.0028338  0.00128996 0.00035181 0.00254097 0.00252134 0.00035181\n",
      " 0.0012703  0.01070885 0.01063417 0.00068407 0.00127047 0.01127679\n",
      " 0.00627401 0.00132911 0.00758326 0.0015831  0.01258747 0.02013172\n",
      " 0.01141452 0.02034654 0.00252129 0.01127694 0.00385047 0.00126865\n",
      " 0.00064498 0.0006645  0.01508839 0.01032006 0.00256046 0.00070363\n",
      " 0.00377224 0.00533545 0.00035179 0.00031272 0.00250184 0.00265809\n",
      " 0.00517884 0.00267753 0.00127038 0.00508194 0.01065216 0.00187629\n",
      " 0.00314678 0.00285344 0.02032797 0.0013291  0.00564835 0.01133653\n",
      " 0.00134864 0.00539467 0.01039835 0.011335   0.01065177 0.00078302\n",
      " 0.01018259 0.01518679 0.00128977 0.00156344 0.00625413 0.00031272\n",
      " 0.00132911 0.0004104  0.00377679 0.00125089 0.00134856 0.00627402\n",
      " 0.0025212  0.01504915 0.01010454 0.00128999 0.01127762 0.00564871\n",
      " 0.00316628 0.00254071 0.00627408 0.01129608 0.00750532 0.00140723\n",
      " 0.01010326 0.00641042 0.00125089 0.00019544 0.00539456 0.01016339\n",
      " 0.01094499 0.00252125 0.00136809 0.00033225 0.00064485 0.00140727\n",
      " 0.00033227 0.0003909  0.01004403 0.00129001 0.00134856 0.01063232\n",
      " 0.00035181 0.01065219 0.00070362 0.00132909 0.00312717 0.00523812\n",
      " 0.00252134 0.00515946 0.00017591 0.00128998 0.00023454 0.00257985\n",
      " 0.00379177 0.0018764  0.00252138]\n"
     ]
    }
   ],
   "source": [
    "lm = linear_model.LinearRegression()\n",
    "model = lm.fit(X_train, y_train)\n",
    "predictions = lm.predict(X_test)\n",
    "print(predictions)"
   ]
  },
  {
   "cell_type": "code",
   "execution_count": 11,
   "metadata": {},
   "outputs": [
    {
     "data": {
      "text/plain": [
       "Text(0,0.5,'Prediction Values')"
      ]
     },
     "execution_count": 11,
     "metadata": {},
     "output_type": "execute_result"
    },
    {
     "data": {
      "image/png": "[encoded data removed]",
      "text/plain": [
       "<Figure size 432x288 with 1 Axes>"
      ]
     },
     "metadata": {
      "needs_background": "light"
     },
     "output_type": "display_data"
    }
   ],
   "source": [
    "plt.scatter(y_test, predictions)\n",
    "plt.xlabel(\"Actual Values\")\n",
    "plt.ylabel(\"Prediction Values\")"
   ]
  },
  {
   "cell_type": "code",
   "execution_count": 27,
   "metadata": {},
   "outputs": [],
   "source": []
  },
  {
   "cell_type": "code",
   "execution_count": 28,
   "metadata": {},
   "outputs": [
    {
     "name": "stdout",
     "output_type": "stream",
     "text": [
      "[[1.54400406e+09 1.00000000e+00 3.79000000e+02 3.60000000e+01\n",
      "  3.55783360e+07]\n",
      " [1.54400412e+09 1.00000000e+00 4.03000000e+02 3.60000000e+01\n",
      "  4.32070400e+07]\n",
      " [1.54400418e+09 1.00000000e+00 4.27000000e+02 3.60000000e+01\n",
      "  3.54701360e+07]\n",
      " ...\n",
      " [1.54407690e+09 1.00000000e+00 3.63000000e+02 3.50000000e+01\n",
      "  4.25890800e+07]\n",
      " [1.54407696e+09 1.00000000e+00 3.87000000e+02 3.50000000e+01\n",
      "  3.52732080e+07]\n",
      " [1.54407702e+09 1.00000000e+00 4.11000000e+02 3.50000000e+01\n",
      "  4.30118720e+07]]\n"
     ]
    }
   ],
   "source": []
  },
  {
   "cell_type": "code",
   "execution_count": 29,
   "metadata": {},
   "outputs": [],
   "source": [
    "models=[]\n",
    "models.append(('LR',LogisticRegression()))\n",
    "models.append(('LDA',LinearDiscriminantAnalysis()))\n",
    "models.append(('CART',DecisionTreeClassifier()))\n",
    "models.append(('SVM',SVC()))\n",
    "models.append(('NB',GaussianNB()))\n",
    "models.append(('KNN',KNeighborsClassifier()))\n",
    "\n",
    "results=[]\n",
    "algo_names=[]"
   ]
  },
  {
   "cell_type": "code",
   "execution_count": 33,
   "metadata": {},
   "outputs": [
    {
     "data": {
      "text/plain": [
       "KMeans(algorithm='auto', copy_x=True, init='k-means++', max_iter=300,\n",
       "    n_clusters=2, n_init=10, n_jobs=1, precompute_distances='auto',\n",
       "    random_state=None, tol=0.0001, verbose=0)"
      ]
     },
     "execution_count": 33,
     "metadata": {},
     "output_type": "execute_result"
    }
   ],
   "source": [
    "from sklearn.cluster import KMeans\n",
    "kmeans=KMeans(n_clusters=2)\n",
    "df=data[0:1215]\n",
    "kmeans.fit(df)    \n",
    "    "
   ]
  },
  {
   "cell_type": "code",
   "execution_count": 34,
   "metadata": {},
   "outputs": [
    {
     "data": {
      "text/plain": [
       "array([[1.54404052e+09, 1.00000000e+00, 1.43490198e+04, 3.59785832e+01,\n",
       "        3.85027526e+07, 4.87646902e-03],\n",
       "       [1.54404044e+09, 1.00000000e+00, 1.46549539e+04, 3.59917763e+01,\n",
       "        4.62152864e+07, 4.75504245e-03]])"
      ]
     },
     "execution_count": 34,
     "metadata": {},
     "output_type": "execute_result"
    }
   ],
   "source": [
    "kmeans.cluster_centers_"
   ]
  },
  {
   "cell_type": "code",
   "execution_count": 35,
   "metadata": {},
   "outputs": [],
   "source": [
    "def converter(cluster):\n",
    "    if cluster > 0.024013:\n",
    "        return 2\n",
    "    if cluster > 0.004816:\n",
    "        return 1\n",
    "    else:\n",
    "        return 0"
   ]
  },
  {
   "cell_type": "code",
   "execution_count": 36,
   "metadata": {},
   "outputs": [
    {
     "name": "stderr",
     "output_type": "stream",
     "text": [
      "C:\\Users\\abhinjha\\Anaconda2\\lib\\site-packages\\ipykernel_launcher.py:1: SettingWithCopyWarning: \n",
      "A value is trying to be set on a copy of a slice from a DataFrame.\n",
      "Try using .loc[row_indexer,col_indexer] = value instead\n",
      "\n",
      "See the caveats in the documentation: http://pandas.pydata.org/pandas-docs/stable/indexing.html#indexing-view-versus-copy\n",
      "  \"\"\"Entry point for launching an IPython kernel.\n"
     ]
    },
    {
     "data": {
      "text/html": [
       "<div>\n",
       "<style scoped>\n",
       "    .dataframe tbody tr th:only-of-type {\n",
       "        vertical-align: middle;\n",
       "    }\n",
       "\n",
       "    .dataframe tbody tr th {\n",
       "        vertical-align: top;\n",
       "    }\n",
       "\n",
       "    .dataframe thead th {\n",
       "        text-align: right;\n",
       "    }\n",
       "</style>\n",
       "<table border=\"1\" class=\"dataframe\">\n",
       "  <thead>\n",
       "    <tr style=\"text-align: right;\">\n",
       "      <th></th>\n",
       "      <th>Time</th>\n",
       "      <th>envoy_server_live</th>\n",
       "      <th>envoy_http_rq_total</th>\n",
       "      <th>jvm_threads_current</th>\n",
       "      <th>jvm_memory_bytes_used</th>\n",
       "      <th>ugbu_chassis_resources_cpu_usage</th>\n",
       "      <th>Cluster</th>\n",
       "    </tr>\n",
       "  </thead>\n",
       "  <tbody>\n",
       "    <tr>\n",
       "      <th>0</th>\n",
       "      <td>1544004060</td>\n",
       "      <td>1</td>\n",
       "      <td>379</td>\n",
       "      <td>36</td>\n",
       "      <td>35578336</td>\n",
       "      <td>0.002521</td>\n",
       "      <td>0</td>\n",
       "    </tr>\n",
       "    <tr>\n",
       "      <th>1</th>\n",
       "      <td>1544004120</td>\n",
       "      <td>1</td>\n",
       "      <td>403</td>\n",
       "      <td>36</td>\n",
       "      <td>43207040</td>\n",
       "      <td>0.005356</td>\n",
       "      <td>1</td>\n",
       "    </tr>\n",
       "    <tr>\n",
       "      <th>2</th>\n",
       "      <td>1544004180</td>\n",
       "      <td>1</td>\n",
       "      <td>427</td>\n",
       "      <td>36</td>\n",
       "      <td>35470136</td>\n",
       "      <td>0.010789</td>\n",
       "      <td>1</td>\n",
       "    </tr>\n",
       "    <tr>\n",
       "      <th>3</th>\n",
       "      <td>1544004240</td>\n",
       "      <td>1</td>\n",
       "      <td>449</td>\n",
       "      <td>36</td>\n",
       "      <td>42478088</td>\n",
       "      <td>0.002678</td>\n",
       "      <td>0</td>\n",
       "    </tr>\n",
       "    <tr>\n",
       "      <th>4</th>\n",
       "      <td>1544004300</td>\n",
       "      <td>1</td>\n",
       "      <td>449</td>\n",
       "      <td>36</td>\n",
       "      <td>42478088</td>\n",
       "      <td>0.002678</td>\n",
       "      <td>0</td>\n",
       "    </tr>\n",
       "  </tbody>\n",
       "</table>\n",
       "</div>"
      ],
      "text/plain": [
       "         Time  envoy_server_live  envoy_http_rq_total  jvm_threads_current  \\\n",
       "0  1544004060                  1                  379                   36   \n",
       "1  1544004120                  1                  403                   36   \n",
       "2  1544004180                  1                  427                   36   \n",
       "3  1544004240                  1                  449                   36   \n",
       "4  1544004300                  1                  449                   36   \n",
       "\n",
       "   jvm_memory_bytes_used  ugbu_chassis_resources_cpu_usage  Cluster  \n",
       "0               35578336                          0.002521        0  \n",
       "1               43207040                          0.005356        1  \n",
       "2               35470136                          0.010789        1  \n",
       "3               42478088                          0.002678        0  \n",
       "4               42478088                          0.002678        0  "
      ]
     },
     "execution_count": 36,
     "metadata": {},
     "output_type": "execute_result"
    }
   ],
   "source": [
    "df['Cluster'] = df['ugbu_chassis_resources_cpu_usage'].apply(converter)\n",
    "df.head(5)"
   ]
  },
  {
   "cell_type": "code",
   "execution_count": 37,
   "metadata": {},
   "outputs": [
    {
     "name": "stdout",
     "output_type": "stream",
     "text": [
      "[[347 358   0]\n",
      " [259 250   0]\n",
      " [  1   0   0]]\n",
      "             precision    recall  f1-score   support\n",
      "\n",
      "          0       0.57      0.49      0.53       705\n",
      "          1       0.41      0.49      0.45       509\n",
      "          2       0.00      0.00      0.00         1\n",
      "\n",
      "avg / total       0.50      0.49      0.49      1215\n",
      "\n"
     ]
    },
    {
     "name": "stderr",
     "output_type": "stream",
     "text": [
      "C:\\Users\\abhinjha\\Anaconda2\\lib\\site-packages\\sklearn\\metrics\\classification.py:1135: UndefinedMetricWarning: Precision and F-score are ill-defined and being set to 0.0 in labels with no predicted samples.\n",
      "  'precision', 'predicted', average, warn_for)\n"
     ]
    }
   ],
   "source": [
    "from sklearn.metrics import confusion_matrix,classification_report\n",
    "print(confusion_matrix(df['Cluster'],kmeans.labels_))\n",
    "print(classification_report(df['Cluster'],kmeans.labels_))"
   ]
  },
  {
   "cell_type": "code",
   "execution_count": 38,
   "metadata": {},
   "outputs": [
    {
     "name": "stderr",
     "output_type": "stream",
     "text": [
      "C:\\Users\\abhinjha\\Anaconda2\\lib\\site-packages\\sklearn\\ensemble\\weight_boosting.py:29: DeprecationWarning: numpy.core.umath_tests is an internal NumPy module and should not be imported. It will be removed in a future NumPy release.\n",
      "  from numpy.core.umath_tests import inner1d\n"
     ]
    }
   ],
   "source": [
    "from sklearn.ensemble import RandomForestRegressor\n",
    "from sklearn.pipeline import make_pipeline\n",
    "from sklearn.preprocessing import Imputer\n",
    "my_pipeline = make_pipeline(Imputer(), RandomForestRegressor())"
   ]
  },
  {
   "cell_type": "code",
   "execution_count": 40,
   "metadata": {},
   "outputs": [
    {
     "name": "stdout",
     "output_type": "stream",
     "text": [
      "[-0.00340563 -0.00386037 -0.00362679]\n"
     ]
    }
   ],
   "source": [
    "from sklearn.model_selection import cross_val_score\n",
    "cols_to_use = ['envoy_server_live','envoy_http_rq_total','jvm_threads_current','jvm_memory_bytes_used']\n",
    "X = df[cols_to_use]\n",
    "y = df.ugbu_chassis_resources_cpu_usage\n",
    "scores = cross_val_score(my_pipeline, X, y, scoring='neg_mean_absolute_error')\n",
    "print(scores)"
   ]
  },
  {
   "cell_type": "code",
   "execution_count": 41,
   "metadata": {},
   "outputs": [
    {
     "name": "stdout",
     "output_type": "stream",
     "text": [
      "Mean Absolute Error 0.003631\n"
     ]
    }
   ],
   "source": [
    "print('Mean Absolute Error %2f' %(-1 * scores.mean()))"
   ]
  },
  {
   "cell_type": "code",
   "execution_count": 42,
   "metadata": {},
   "outputs": [
    {
     "name": "stdout",
     "output_type": "stream",
     "text": [
      "             precision    recall  f1-score   support\n",
      "\n",
      "          0       0.57      0.49      0.53       705\n",
      "          1       0.41      0.49      0.45       509\n",
      "          2       0.00      0.00      0.00         1\n",
      "\n",
      "avg / total       0.50      0.49      0.49      1215\n",
      "\n"
     ]
    }
   ],
   "source": [
    "print(classification_report(df['Cluster'],kmeans.labels_))"
   ]
  },
  {
   "cell_type": "code",
   "execution_count": 48,
   "metadata": {},
   "outputs": [
    {
     "name": "stdout",
     "output_type": "stream",
     "text": [
      "[[347 358   0]\n",
      " [259 250   0]\n",
      " [  1   0   0]]\n"
     ]
    }
   ],
   "source": [
    "print(confusion_matrix(df['Cluster'],kmeans.labels_))"
   ]
  },
  {
   "cell_type": "code",
   "execution_count": 52,
   "metadata": {},
   "outputs": [
    {
     "name": "stdout",
     "output_type": "stream",
     "text": [
      "Accuracy of Model=: 0.628631 \n",
      "\n"
     ]
    }
   ],
   "source": [
    "acc=float((347+259))/(347+259+358)\n",
    "error=float((250))/()\n",
    "ans=\"%s: %f \\n\" % ('Accuracy of Model=',acc)\n",
    "print(ans)"
   ]
  },
  {
   "cell_type": "code",
   "execution_count": null,
   "metadata": {},
   "outputs": [],
   "source": []
  }
 ],
 "metadata": {
  "kernelspec": {
   "display_name": "Python 2",
   "language": "python",
   "name": "python2"
  },
  "language_info": {
   "codemirror_mode": {
    "name": "ipython",
    "version": 2
   },
   "file_extension": ".py",
   "mimetype": "text/x-python",
   "name": "python",
   "nbconvert_exporter": "python",
   "pygments_lexer": "ipython2",
   "version": "2.7.15"
  }
 },
 "nbformat": 4,
 "nbformat_minor": 2
}
